{
 "cells": [
  {
   "cell_type": "code",
   "execution_count": 1,
   "id": "3c37caba",
   "metadata": {},
   "outputs": [],
   "source": [
    "import trackio"
   ]
  },
  {
   "cell_type": "code",
   "execution_count": 2,
   "id": "df7f8adc",
   "metadata": {},
   "outputs": [
    {
     "name": "stdout",
     "output_type": "stream",
     "text": [
      "* Trackio UI launched at: http://127.0.0.1:7861/?project=huggingface\n",
      "Keyboard interruption in main thread... closing dashboard.\n",
      "^C\n"
     ]
    }
   ],
   "source": [
    "!trackio show --project=\"huggingface\""
   ]
  },
  {
   "cell_type": "code",
   "execution_count": null,
   "id": "a6ec67c6",
   "metadata": {},
   "outputs": [],
   "source": []
  }
 ],
 "metadata": {
  "kernelspec": {
   "display_name": "llm-sft",
   "language": "python",
   "name": "python3"
  },
  "language_info": {
   "codemirror_mode": {
    "name": "ipython",
    "version": 3
   },
   "file_extension": ".py",
   "mimetype": "text/x-python",
   "name": "python",
   "nbconvert_exporter": "python",
   "pygments_lexer": "ipython3",
   "version": "3.12.11"
  }
 },
 "nbformat": 4,
 "nbformat_minor": 5
}
